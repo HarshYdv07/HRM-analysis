{
 "cells": [
  {
   "cell_type": "code",
   "execution_count": null,
   "id": "db27d594",
   "metadata": {},
   "outputs": [],
   "source": [
    "import pandas as pd\n",
    "import numpy as np\n",
    "import matplotlib.pyplot as plt\n",
    "import seaborn as sns\n",
    "\n",
    "sns.set(style=\"whitegrid\")\n",
    "\n",
    "np.random.seed(42)\n",
    "n = 200\n",
    "\n",
    "df = pd.DataFrame({\n",
    "    'EmployeeID': range(1, n+1),\n",
    "    'Age': np.random.randint(22, 60, n),\n",
    "    'Gender': np.random.choice(['Male', 'Female'], n),\n",
    "    'Department': np.random.choice(['HR', 'IT', 'Finance', 'Sales', 'Marketing'], n),\n",
    "    'Education': np.random.choice(['High School', 'Bachelors', 'Masters', 'PhD'], n),\n",
    "    'YearsAtCompany': np.random.randint(0, 20, n),\n",
    "    'JobSatisfaction': np.random.randint(1, 6, n),\n",
    "    'MonthlyIncome': np.random.randint(20000, 120000, n),\n",
    "    'Attrition': np.random.choice(['Yes', 'No'], n, p=[0.2, 0.8])\n",
    "})\n",
    "\n",
    "df.head()"
   ]
  },
  {
   "cell_type": "code",
   "execution_count": null,
   "id": "c3ec12c5",
   "metadata": {},
   "outputs": [],
   "source": [
    "plt.figure(figsize=(6,4))\n",
    "sns.countplot(data=df, x='Gender', palette='pastel')\n",
    "plt.title('Gender Distribution')\n",
    "plt.show()"
   ]
  },
  {
   "cell_type": "code",
   "execution_count": null,
   "id": "58dbf96b",
   "metadata": {},
   "outputs": [],
   "source": [
    "plt.figure(figsize=(8,4))\n",
    "sns.countplot(data=df, x='Department', palette='Set2')\n",
    "plt.title('Number of Employees per Department')\n",
    "plt.xticks(rotation=45)\n",
    "plt.show()"
   ]
  },
  {
   "cell_type": "code",
   "execution_count": null,
   "id": "1ba65fd3",
   "metadata": {},
   "outputs": [],
   "source": [
    "plt.figure(figsize=(8,4))\n",
    "sns.countplot(data=df, x='Education', palette='cool')\n",
    "plt.title('Education Level Distribution')\n",
    "plt.xticks(rotation=45)\n",
    "plt.show()"
   ]
  },
  {
   "cell_type": "code",
   "execution_count": null,
   "id": "f8d8af3c",
   "metadata": {},
   "outputs": [],
   "source": [
    "plt.figure(figsize=(6,4))\n",
    "sns.countplot(data=df, x='Attrition', palette='Set1')\n",
    "plt.title('Employee Attrition')\n",
    "plt.show()"
   ]
  },
  {
   "cell_type": "code",
   "execution_count": null,
   "id": "e716ed5c",
   "metadata": {},
   "outputs": [],
   "source": [
    "plt.figure(figsize=(8,4))\n",
    "sns.histplot(data=df, x='Age', kde=True, bins=15, color='skyblue')\n",
    "plt.title('Age Distribution')\n",
    "plt.show()"
   ]
  },
  {
   "cell_type": "code",
   "execution_count": null,
   "id": "de291389",
   "metadata": {},
   "outputs": [],
   "source": [
    "plt.figure(figsize=(8,4))\n",
    "sns.histplot(df['MonthlyIncome'], bins=20, kde=True, color='orange')\n",
    "plt.title('Monthly Income Distribution')\n",
    "plt.show()"
   ]
  },
  {
   "cell_type": "code",
   "execution_count": null,
   "id": "4d20b4c4",
   "metadata": {},
   "outputs": [],
   "source": [
    "plt.figure(figsize=(8,5))\n",
    "sns.scatterplot(data=df, x='YearsAtCompany', y='MonthlyIncome', hue='Attrition')\n",
    "plt.title('Years at Company vs Monthly Income')\n",
    "plt.show()"
   ]
  },
  {
   "cell_type": "code",
   "execution_count": null,
   "id": "eea7b3f6",
   "metadata": {},
   "outputs": [],
   "source": [
    "plt.figure(figsize=(10,5))\n",
    "sns.boxplot(data=df, x='Department', y='JobSatisfaction', palette='Set3')\n",
    "plt.title('Job Satisfaction by Department')\n",
    "plt.xticks(rotation=45)\n",
    "plt.show()"
   ]
  },
  {
   "cell_type": "code",
   "execution_count": null,
   "id": "0464f6a0",
   "metadata": {},
   "outputs": [],
   "source": [
    "plt.figure(figsize=(8,6))\n",
    "sns.heatmap(df.select_dtypes(include=np.number).corr(), annot=True, cmap='coolwarm')\n",
    "plt.title('Correlation Matrix')\n",
    "plt.show()"
   ]
  },
  {
   "cell_type": "code",
   "execution_count": null,
   "id": "fe2ddb17",
   "metadata": {},
   "outputs": [],
   "source": [
    "attr_counts = df['Attrition'].value_counts()\n",
    "plt.figure(figsize=(6,6))\n",
    "plt.pie(attr_counts, labels=attr_counts.index, autopct='%1.1f%%', startangle=90, colors=['lightgreen', 'salmon'])\n",
    "plt.title('Attrition Rate')\n",
    "plt.show()"
   ]
  }
 ],
 "metadata": {},
 "nbformat": 4,
 "nbformat_minor": 5
}